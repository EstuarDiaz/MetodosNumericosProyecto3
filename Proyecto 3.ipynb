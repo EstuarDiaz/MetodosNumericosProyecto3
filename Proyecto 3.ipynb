{
 "cells": [
  {
   "cell_type": "markdown",
   "metadata": {},
   "source": [
    "# Proyecto 3\n",
    "Estuardo Díaz 16110"
   ]
  },
  {
   "cell_type": "code",
   "execution_count": 1,
   "metadata": {},
   "outputs": [],
   "source": [
    "import numpy as np\n",
    "from scipy import linalg\n",
    "import matplotlib\n",
    "import matplotlib.pyplot as plt"
   ]
  },
  {
   "cell_type": "markdown",
   "metadata": {},
   "source": [
    "### Algoritmos a utilizar:"
   ]
  },
  {
   "cell_type": "code",
   "execution_count": null,
   "metadata": {},
   "outputs": [],
   "source": [
    "def Jacobi(A,b,x0,N=100,tol=0.001):\n",
    "    for k in range(N):\n",
    "        print(k,\": \", x0)\n",
    "        x = np.zeros_like(x0)\n",
    "        for i in range(A.shape[0]):\n",
    "            x[i] = (b[i] - sum(A[i,:]*x0) + A[i,i]*x0[i]) / A[i, i]\n",
    "        if np.allclose(x0, x, atol=tol, rtol=0.):\n",
    "            return x\n",
    "        x0 = x\n",
    "    print(\"Se excedió el número máximo de iteraciones\")\n",
    "    return x"
   ]
  },
  {
   "cell_type": "code",
   "execution_count": null,
   "metadata": {},
   "outputs": [],
   "source": [
    "def GaussSeidel(A,b,x0,N=100,tol=0.001):\n",
    "    for k in range(N):\n",
    "        print(k,\": \",x0)\n",
    "        x = np.zeros_like(x0)\n",
    "        for i in range(A.shape[0]):\n",
    "            x[i] = (b[i] - sum(A[i, :i]*x[:i]) - sum(A[i, i + 1:]*x0[i + 1:])) / A[i, i]\n",
    "        if np.allclose(x0, x, rtol=tol):\n",
    "            return x\n",
    "        x0 = x\n",
    "    print(\"Se excedió el número máximo de iteraciones\")\n",
    "    return x"
   ]
  },
  {
   "cell_type": "code",
   "execution_count": null,
   "metadata": {},
   "outputs": [],
   "source": [
    "def SOR(A, b, x0, w=0.5, N=100, tol=0.001):\n",
    "    x = x0\n",
    "    for k in range(N):\n",
    "        print(k,\": \",x0)\n",
    "        for i in range(A.shape[0]):\n",
    "            x[i] = (1 - w) * x[i] + (w / A[i][i]) * (b[i] - sum(A[i,:]*x) + A[i,i]*x[i])\n",
    "        if np.linalg.norm(A.dot(x) - np.transpose(b)) < tol:\n",
    "            return x\n",
    "    print(\"Se excedió el número máximo de iteraciones\")\n",
    "    return x"
   ]
  },
  {
   "cell_type": "markdown",
   "metadata": {},
   "source": [
    "## a) Matriz mal condicionada"
   ]
  },
  {
   "cell_type": "markdown",
   "metadata": {},
   "source": [
    "Definimos la **condición** de $A$ como $cond(A) := ||A||\\cdot ||A^{-1}||$"
   ]
  },
  {
   "cell_type": "code",
   "execution_count": 100,
   "metadata": {},
   "outputs": [],
   "source": [
    "def cond(A):\n",
    "    inv_A = linalg.inv(A)\n",
    "    return linalg.norm(A)*linalg.norm(inv_A)"
   ]
  },
  {
   "cell_type": "markdown",
   "metadata": {},
   "source": [
    "Consideremos la matriz $H$ mal condicionada siguiente:"
   ]
  },
  {
   "cell_type": "markdown",
   "metadata": {},
   "source": [
    "La matriz de Hilbert es una matriz $H$ de $n\\times n$ cuyas entradas están dadas por $$H_{ij} = \\frac{1}{i+j-1}$$  "
   ]
  },
  {
   "cell_type": "code",
   "execution_count": 101,
   "metadata": {},
   "outputs": [],
   "source": [
    "def getHilbertMatrix(n = 5):\n",
    "    H = np.zeros((n,n))\n",
    "    for i in range(n):\n",
    "        for j in range(n):\n",
    "            H[i,j] = 1/(i+j+1)\n",
    "    return H\n"
   ]
  },
  {
   "cell_type": "code",
   "execution_count": 102,
   "metadata": {},
   "outputs": [
    {
     "data": {
      "text/plain": [
       "array([[1.        , 0.5       , 0.33333333, 0.25      , 0.2       ],\n",
       "       [0.5       , 0.33333333, 0.25      , 0.2       , 0.16666667],\n",
       "       [0.33333333, 0.25      , 0.2       , 0.16666667, 0.14285714],\n",
       "       [0.25      , 0.2       , 0.16666667, 0.14285714, 0.125     ],\n",
       "       [0.2       , 0.16666667, 0.14285714, 0.125     , 0.11111111]])"
      ]
     },
     "execution_count": 102,
     "metadata": {},
     "output_type": "execute_result"
    }
   ],
   "source": [
    "H = getHilbertMatrix()\n",
    "H"
   ]
  },
  {
   "cell_type": "code",
   "execution_count": 103,
   "metadata": {},
   "outputs": [
    {
     "name": "stdout",
     "output_type": "stream",
     "text": [
      "cond(H):  480849.1169946838\n"
     ]
    }
   ],
   "source": [
    "print(\"cond(H): \",cond(H))"
   ]
  },
  {
   "cell_type": "markdown",
   "metadata": {},
   "source": [
    "Como la condición de $H$ es muy grande, sabemos que la matriz es mal condicionada. Por lo tanto, la factorización no es buena. Sin embargo, la factorización $PL U$ funciona bastante bien."
   ]
  },
  {
   "cell_type": "code",
   "execution_count": 104,
   "metadata": {},
   "outputs": [
    {
     "name": "stdout",
     "output_type": "stream",
     "text": [
      "Norma de (PL*U - H):  1.0159548154646056\n",
      "PL*U - H:\n"
     ]
    },
    {
     "data": {
      "text/plain": [
       "array([[ 0.        ,  0.04166667,  0.04259259,  0.03906746,  0.03528118],\n",
       "       [-0.5       , -0.33333333, -0.24996914, -0.19995966, -0.16662574],\n",
       "       [-0.33333333, -0.24305556, -0.19308642, -0.16040344, -0.13723442],\n",
       "       [-0.25      , -0.2       , -0.16666667, -0.14285714, -0.125     ],\n",
       "       [-0.2       , -0.16666667, -0.14285714, -0.12499949, -0.11111009]])"
      ]
     },
     "execution_count": 104,
     "metadata": {},
     "output_type": "execute_result"
    }
   ],
   "source": [
    "P, L, U = factorizar(H)\n",
    "PL = P.dot(U)\n",
    "print(\"Norma de (PL*U - H): \", linalg.norm(PL.dot(U) - H))\n",
    "print(\"PL*U - H:\")\n",
    "PL.dot(U) - H"
   ]
  },
  {
   "cell_type": "markdown",
   "metadata": {},
   "source": [
    "Si lo calculamos para $H$ con $n=100$ obtenemos aún resultados similares:"
   ]
  },
  {
   "cell_type": "code",
   "execution_count": 105,
   "metadata": {},
   "outputs": [
    {
     "name": "stdout",
     "output_type": "stream",
     "text": [
      "cond(H):  6.559574546502786e+19\n",
      "Norma de (PL*U - H):  1.985159670420475e-16\n",
      "PL*U - H:\n"
     ]
    },
    {
     "data": {
      "text/plain": [
       "array([[ 0.00000000e+00,  0.00000000e+00,  0.00000000e+00, ...,\n",
       "         0.00000000e+00,  0.00000000e+00,  0.00000000e+00],\n",
       "       [ 0.00000000e+00,  0.00000000e+00,  0.00000000e+00, ...,\n",
       "         0.00000000e+00,  0.00000000e+00,  0.00000000e+00],\n",
       "       [ 0.00000000e+00,  0.00000000e+00,  0.00000000e+00, ...,\n",
       "         0.00000000e+00,  0.00000000e+00,  0.00000000e+00],\n",
       "       ...,\n",
       "       [ 0.00000000e+00,  0.00000000e+00,  1.73472348e-18, ...,\n",
       "        -2.60208521e-18, -1.73472348e-18,  0.00000000e+00],\n",
       "       [ 0.00000000e+00,  0.00000000e+00,  0.00000000e+00, ...,\n",
       "         0.00000000e+00,  1.73472348e-18,  8.67361738e-19],\n",
       "       [ 0.00000000e+00,  0.00000000e+00,  0.00000000e+00, ...,\n",
       "         0.00000000e+00,  0.00000000e+00,  0.00000000e+00]])"
      ]
     },
     "execution_count": 105,
     "metadata": {},
     "output_type": "execute_result"
    }
   ],
   "source": [
    "H = getHilbertMatrix(100)\n",
    "print(\"cond(H): \",cond(H))\n",
    "P, L, U = factorizar(H)\n",
    "PL = P.dot(L)\n",
    "print(\"Norma de (PL*U - H): \", linalg.norm(PL.dot(U) - H))\n",
    "print(\"PL*U - H:\")\n",
    "PL.dot(U) - H"
   ]
  },
  {
   "cell_type": "markdown",
   "metadata": {},
   "source": [
    "## b) Matriz de insumo producto"
   ]
  },
  {
   "cell_type": "markdown",
   "metadata": {},
   "source": [
    "La matriz de insumo-producto es una matriz que representa las compras y ventas de varios sectores de economía y se utilizan para predecir demanda o la producción que se requiere para satisfacer la demanda.\n",
    "\n",
    "En este ejemplo, $A$ es la matriz de insumo producto sobre los sectores de Agricultura, Industria y Servicios. La variable $y$ representa la demanda y queremos calcular $x$, la producción bruta.\n",
    "\\begin{align}\n",
    "x &= Ax + y \\\\\n",
    "x - Ax &= y \\\\\n",
    "x(I - A) &= y\\\\\n",
    "x &= (I-A)^{-1}y\n",
    "\\end{align}"
   ]
  },
  {
   "cell_type": "code",
   "execution_count": 106,
   "metadata": {},
   "outputs": [
    {
     "name": "stdout",
     "output_type": "stream",
     "text": [
      "A:\n",
      " [[0.2 0.1 0.2]\n",
      " [0.5 0.2 0.1]\n",
      " [0.3 0.7 0.1]]\n"
     ]
    }
   ],
   "source": [
    "A = np.array([[0.2, 0.1, 0.2],[0.5, 0.2, 0.1],[0.3, 0.7, 0.1]])\n",
    "print(\"A:\\n\",A)"
   ]
  },
  {
   "cell_type": "code",
   "execution_count": 107,
   "metadata": {},
   "outputs": [
    {
     "name": "stdout",
     "output_type": "stream",
     "text": [
      "y:\n",
      " [[ 600]\n",
      " [1000]\n",
      " [ 700]]\n"
     ]
    }
   ],
   "source": [
    "y = np.array([[600],[1000],[700]])\n",
    "print(\"y:\\n\",y)"
   ]
  },
  {
   "cell_type": "markdown",
   "metadata": {},
   "source": [
    "Llamamos la la matriz $(I-A)$ la matriz de Leontief y $(I-A)^{-1}$ la matriz inversa de Leontief"
   ]
  },
  {
   "cell_type": "code",
   "execution_count": 108,
   "metadata": {},
   "outputs": [
    {
     "name": "stdout",
     "output_type": "stream",
     "text": [
      "Matriz de Leontief:\n",
      " [[ 0.8 -0.1 -0.2]\n",
      " [-0.5  0.8 -0.1]\n",
      " [-0.3 -0.7  0.9]]\n",
      "Matriz inversa de Leontief:\n",
      " [[1.83615819 0.64971751 0.48022599]\n",
      " [1.3559322  1.86440678 0.50847458]\n",
      " [1.66666667 1.66666667 1.66666667]]\n"
     ]
    }
   ],
   "source": [
    "Leontief = np.identity(3)- A\n",
    "print(\"Matriz de Leontief:\\n\", Leontief)\n",
    "invLeontief = linalg.inv(Leontief)\n",
    "print(\"Matriz inversa de Leontief:\\n\", invLeontief)"
   ]
  },
  {
   "cell_type": "markdown",
   "metadata": {},
   "source": [
    "Sin embargo para calcular la inversa, podemos utilizar la factorización $LU$ para encontrar la solucion"
   ]
  },
  {
   "cell_type": "markdown",
   "metadata": {},
   "source": [
    "Encontramos $x$ como $x = (I-A)^{-1}y$"
   ]
  },
  {
   "cell_type": "code",
   "execution_count": 109,
   "metadata": {},
   "outputs": [
    {
     "name": "stdout",
     "output_type": "stream",
     "text": [
      "x:\n",
      " [[2087.57062147]\n",
      " [3033.89830508]\n",
      " [3833.33333333]]\n"
     ]
    }
   ],
   "source": [
    "I = np.identity(len(y))\n",
    "x = resolver(I-A,y)\n",
    "print(\"x:\\n\",x)"
   ]
  },
  {
   "cell_type": "markdown",
   "metadata": {},
   "source": [
    "Notamos que la solución es efectivamente correcta"
   ]
  },
  {
   "cell_type": "code",
   "execution_count": 110,
   "metadata": {},
   "outputs": [
    {
     "name": "stdout",
     "output_type": "stream",
     "text": [
      "x - (Ax+y):\n",
      "[[0.00000000e+00]\n",
      " [0.00000000e+00]\n",
      " [4.54747351e-13]]\n"
     ]
    }
   ],
   "source": [
    "print(\"x - (Ax+y):\")\n",
    "print(x-(A.dot(x)+y))"
   ]
  },
  {
   "cell_type": "markdown",
   "metadata": {},
   "source": [
    "## c) Regresión múltiple"
   ]
  },
  {
   "cell_type": "markdown",
   "metadata": {},
   "source": [
    "Podemos utilizar regrecion lineal multiple para encontrar una recta que representa el comportamiento de un conjunto de datos."
   ]
  },
  {
   "cell_type": "code",
   "execution_count": 111,
   "metadata": {},
   "outputs": [
    {
     "data": {
      "image/png": "[encoded data removed]",
      "text/plain": [
       "<Figure size 432x288 with 1 Axes>"
      ]
     },
     "metadata": {},
     "output_type": "display_data"
    }
   ],
   "source": [
    "x = np.array([1,2,4,5,6])\n",
    "y = np.array([0,1,2,3,5])\n",
    "# Plot\n",
    "fig, ax = plt.subplots()\n",
    "ax.scatter(x, y, color='red')\n",
    "\n",
    "ax.set(xlabel='x', ylabel='y',\n",
    "       title='Data')\n",
    "ax.grid()\n",
    "plt.show()"
   ]
  },
  {
   "cell_type": "markdown",
   "metadata": {},
   "source": [
    "Suponemos que los datos siguen un comportamiento lineal, entonces definimos las ecuaciones\n",
    "\\begin{align}\n",
    "Ax &= b\\\\\n",
    "A^TA \\hat{x} &= A^Tb\n",
    "\\end{align}\n",
    "Donde $A$ esta dado por $A = \\binom{x}{1}$. Entonces si encontramos la inversa de $A^TA$ el problema se reduce a resolver un sistema de la forma $Ax=b$."
   ]
  },
  {
   "cell_type": "code",
   "execution_count": 112,
   "metadata": {},
   "outputs": [
    {
     "name": "stdout",
     "output_type": "stream",
     "text": [
      "A:\n",
      " [[1. 1.]\n",
      " [2. 1.]\n",
      " [4. 1.]\n",
      " [5. 1.]\n",
      " [6. 1.]]\n",
      "ATA:\n",
      " [[82. 18.]\n",
      " [18.  5.]]\n",
      "ATb\n",
      ": [55. 11.]\n"
     ]
    }
   ],
   "source": [
    "A = np.transpose(np.array([x,np.ones(len(x))]))\n",
    "print(\"A:\\n\",A)\n",
    "ATA = np.transpose(A).dot(A)\n",
    "print(\"ATA:\\n\",ATA)\n",
    "ATb = np.transpose(A).dot(np.transpose(y))\n",
    "print(\"ATb\\n:\",ATb)"
   ]
  },
  {
   "cell_type": "markdown",
   "metadata": {},
   "source": [
    "Utilizamos el metodo de factorizacon $LU$ para encontrar la inversa y resolver el sistema de ecuaciones. Con esto obtenemos los parametros de la recta que mejor se ajustan a nuestros datos."
   ]
  },
  {
   "cell_type": "code",
   "execution_count": 113,
   "metadata": {},
   "outputs": [
    {
     "data": {
      "image/png": "[encoded data removed]",
      "text/plain": [
       "<Figure size 432x288 with 1 Axes>"
      ]
     },
     "metadata": {},
     "output_type": "display_data"
    }
   ],
   "source": [
    "sol = resolver(ATA, ATb)\n",
    "m = sol[0]\n",
    "b = sol[1]\n",
    "\n",
    "fig, ax = plt.subplots()\n",
    "ax.scatter(x, y, color = 'red')\n",
    "l = np.linspace(min(x),max(x),100)\n",
    "ax.plot(l,m*l+b )\n",
    "ax.set(xlabel='x', ylabel='y',\n",
    "       title='Data')\n",
    "ax.grid()\n",
    "plt.show()"
   ]
  },
  {
   "cell_type": "markdown",
   "metadata": {},
   "source": [
    "### Referencias\n",
    "* Weisstein, Eric W. \"Hilbert Matrix.\" From MathWorld--A Wolfram Web Resource. http://mathworld.wolfram.com/HilbertMatrix.html\n",
    "* Prof. Waldo Marquez González, \"La Matriz de Leontief\", EL PROBLEMA ECONOMICO DE LAS RELACIONES INTERINDUSTRIALES. http://www.ehu.eus/Jarriola/Docencia/EcoEsp/matriz-de-leontief.pdf\n",
    "* Dr. Peyam, Linear regression. https://www.youtube.com/watch?v=-bgrezOT0VQ"
   ]
  }
 ],
 "metadata": {
  "kernelspec": {
   "display_name": "Python 3",
   "language": "python",
   "name": "python3"
  },
  "language_info": {
   "codemirror_mode": {
    "name": "ipython",
    "version": 3
   },
   "file_extension": ".py",
   "mimetype": "text/x-python",
   "name": "python",
   "nbconvert_exporter": "python",
   "pygments_lexer": "ipython3",
   "version": "3.7.4"
  }
 },
 "nbformat": 4,
 "nbformat_minor": 2
}
