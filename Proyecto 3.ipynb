{
 "cells": [
  {
   "cell_type": "markdown",
   "metadata": {},
   "source": [
    "# Proyecto 3\n",
    "Estuardo Díaz 16110"
   ]
  },
  {
   "cell_type": "code",
   "execution_count": 1,
   "metadata": {},
   "outputs": [],
   "source": [
    "import numpy as np\n",
    "from scipy import linalg\n",
    "import matplotlib\n",
    "import matplotlib.pyplot as plt"
   ]
  },
  {
   "cell_type": "markdown",
   "metadata": {},
   "source": [
    "### Algoritmos a utilizar:"
   ]
  },
  {
   "cell_type": "code",
   "execution_count": 70,
   "metadata": {},
   "outputs": [],
   "source": [
    "def GaussSeidel(A,b,x0,N=100,tol=0.000001):\n",
    "    for k in range(N):\n",
    "        print(k,\": \",x0)\n",
    "        x = np.zeros_like(x0)\n",
    "        for i in range(A.shape[0]):\n",
    "            x[i] = (b[i] - sum(A[i, :i]*x[:i]) - sum(A[i, i + 1:]*x0[i + 1:])) / A[i, i]\n",
    "        if np.allclose(x0, x, rtol=tol):\n",
    "            return x\n",
    "        x0 = x\n",
    "    print(\"Se excedió el número máximo de iteraciones\")\n",
    "    return x"
   ]
  },
  {
   "cell_type": "markdown",
   "metadata": {},
   "source": [
    "## a) Matriz mal condicionada"
   ]
  },
  {
   "cell_type": "markdown",
   "metadata": {},
   "source": [
    "Definimos la **condición** de $A$ como $cond(A) := ||A||\\cdot ||A^{-1}||$"
   ]
  },
  {
   "cell_type": "code",
   "execution_count": 71,
   "metadata": {},
   "outputs": [],
   "source": [
    "def cond(A):\n",
    "    inv_A = linalg.inv(A)\n",
    "    return linalg.norm(A)*linalg.norm(inv_A)"
   ]
  },
  {
   "cell_type": "markdown",
   "metadata": {},
   "source": [
    "Consideremos la matriz $H$ mal condicionada siguiente:"
   ]
  },
  {
   "cell_type": "markdown",
   "metadata": {},
   "source": [
    "La matriz de Hilbert es una matriz $H$ de $n\\times n$ cuyas entradas están dadas por $$H_{ij} = \\frac{1}{i+j-1}$$  "
   ]
  },
  {
   "cell_type": "code",
   "execution_count": 72,
   "metadata": {},
   "outputs": [],
   "source": [
    "def getHilbertMatrix(n = 5):\n",
    "    H = np.zeros((n,n))\n",
    "    for i in range(n):\n",
    "        for j in range(n):\n",
    "            H[i,j] = 1/(i+j+1)\n",
    "    return H\n"
   ]
  },
  {
   "cell_type": "code",
   "execution_count": 73,
   "metadata": {},
   "outputs": [
    {
     "data": {
      "text/plain": [
       "array([[1.        , 0.5       , 0.33333333, 0.25      , 0.2       ],\n",
       "       [0.5       , 0.33333333, 0.25      , 0.2       , 0.16666667],\n",
       "       [0.33333333, 0.25      , 0.2       , 0.16666667, 0.14285714],\n",
       "       [0.25      , 0.2       , 0.16666667, 0.14285714, 0.125     ],\n",
       "       [0.2       , 0.16666667, 0.14285714, 0.125     , 0.11111111]])"
      ]
     },
     "execution_count": 73,
     "metadata": {},
     "output_type": "execute_result"
    }
   ],
   "source": [
    "H = getHilbertMatrix()\n",
    "H"
   ]
  },
  {
   "cell_type": "code",
   "execution_count": 74,
   "metadata": {},
   "outputs": [
    {
     "name": "stdout",
     "output_type": "stream",
     "text": [
      "cond(H):  480849.1169946837\n"
     ]
    }
   ],
   "source": [
    "print(\"cond(H): \",cond(H))"
   ]
  },
  {
   "cell_type": "markdown",
   "metadata": {},
   "source": [
    "Como la condición de $H$ es muy grande, sabemos que la matriz es mal condicionada. Por lo tanto, la factorización no es buena. Sin embargo, podemos utilizar el método de Gauss-Seidel para resolver un sistema $Hx=y$. Sea $y = [1,2,3,4,5]$"
   ]
  },
  {
   "cell_type": "code",
   "execution_count": 75,
   "metadata": {},
   "outputs": [
    {
     "name": "stdout",
     "output_type": "stream",
     "text": [
      "0 :  [0. 0. 0. 0. 0.]\n",
      "1 :  [ 1.          4.5         7.70833333 10.95694444 14.21272321]\n",
      "2 :  [-9.4012252   0.64005952 10.58590207 18.76970887 26.23574807]\n",
      "3 :  [-12.78824062  -7.13676499  10.85344648  24.75225827  36.92325885]\n",
      "4 :  [-12.62214934 -16.51984524   9.6860839   29.60826196  46.73680551]\n",
      "5 :  [-10.71819861 -26.32062495   7.70746139  33.71897938  55.9302499 ]\n",
      "6 :  [ -8.02463615 -35.9401544    5.25025859  37.29505906  64.64730274]\n",
      "7 :  [ -5.03323431 -45.08852929   2.49352476  40.45659893  72.97298149]\n",
      "8 :  [ -1.99565631 -53.63710921  -0.46491029  43.27538797  80.96077551]\n",
      "9 :  [  0.96252261 -61.54072173  -3.57025085  45.79720995  88.64700323]\n",
      "10 :  [  3.78174135 -68.79675147  -6.79059256  48.05363485  96.05841543]\n",
      "11 :  [  6.43681479 -75.42366639 -10.10629125  50.06826669 103.21623597]\n",
      "12 :  [  8.92028308 -81.44978418 -13.50434665  51.86006708 110.13832267]\n",
      "13 :  [ 11.23365967 -86.9074311  -16.97543029  53.44513545 116.84033509]\n",
      "14 :  [ 13.38284143 -91.82993825 -20.51230799  54.83767383 123.33637716]\n",
      "15 :  [ 15.37571123 -96.25012873 -24.10899825  56.05052018 129.63936114]\n",
      "16 :  [  17.22089484 -100.19958625  -27.76031908   57.09545271  135.76122318]\n",
      "17 :  [  18.92712501 -103.70833142  -31.46164027   57.98337192  141.71305905]\n",
      "18 :  [  20.50292434 -106.80470899  -35.20874454   58.72441695  147.50521644]\n",
      "19 :  [  21.95645515 -109.51538271  -38.99774654   59.32804586  153.14736304]\n",
      "20 :  [  23.29545613 -111.86538332  -42.82504288   59.80309579  158.6485406 ]\n",
      "21 :  [  24.52722388 -113.87818144  -46.68727897   60.15783133  164.01721046]\n",
      "22 :  [  25.65861712 -115.57577048  -50.5813252    60.39998563  169.26129348]\n",
      "23 :  [  26.69607187 -116.97875202  -54.50425836   60.53679668  174.388206  ]\n",
      "24 :  [  27.64562176 -118.10641988  -58.45334628   60.57504015  179.40489283]\n",
      "25 :  [  28.51292009 -118.97684094  -62.42603446   60.52105947  184.31785765]\n",
      "26 :  [  29.30326223 -119.606932    -66.41993421   60.3807937   189.13319135]\n",
      "27 :  [  30.02160738 -120.0125323   -70.43281168   60.15980351  193.85659838]\n",
      "28 :  [  30.67259949 -120.20847177  -74.46257787   59.8632953   198.49342148]\n",
      "29 :  [  31.26058705 -120.2086351   -78.50727931   59.49614386  203.04866465]\n",
      "30 :  [  31.78964176 -120.0260218   -82.56508937   59.06291347  207.52701478]\n",
      "31 :  [  32.26357603 -119.67280249  -86.63430015   58.56787767  211.93286183]\n",
      "32 :  [  32.68595951 -119.16037168  -90.71331491   58.01503783  216.27031772]\n",
      "33 :  [  33.06013447 -118.49939709  -94.800641     57.40814041  220.54323404]\n",
      "34 :  [  33.3892303  -117.69986596  -98.89488317   56.75069325  224.75521859]\n",
      "35 :  [  33.67617701 -116.77112838 -102.99473743   56.0459807   228.90965093]\n",
      "36 :  [  33.92371797 -115.72193777 -107.09898518   55.29707791  233.00969689]\n",
      "37 :  [  34.13442176 -114.56048894 -111.20648779   54.50686408  237.05832217]\n",
      "38 :  [  34.31069328 -113.29445361 -115.3161815    53.678035    241.05830506]\n",
      "39 :  [  34.45478421 -111.93101372 -119.42707264   52.81311467  245.01224841]\n",
      "40 :  [  34.56880273 -110.47689261 -123.5382332    51.91446626  248.92259072]\n",
      "41 :  [  34.65472266 -108.93838421 -127.64879657   50.98430235  252.79161668]\n",
      "42 :  [  34.71439204 -107.32138038 -131.7579537    50.02469452  256.6214669 ]\n",
      "43 :  [  34.74954108 -105.63139651 -135.86494939   49.0375823   260.41414708]\n",
      "44 :  [  34.76178972 -103.87359547 -139.96907885   48.0247816   264.17153663]\n",
      "45 :  [  34.75265462 -102.05281008 -144.06968452   46.98799256  267.89539668]\n",
      "46 :  [  34.72355573 -100.17356409 -148.16615302   45.92880695  271.58737759]\n",
      "47 :  [  34.67582246  -98.24009189 -152.25791235   44.84871503  275.24902602]\n",
      "48 :  [  34.61069944  -96.25635692 -156.34442926   43.74911204  278.88179154]\n",
      "49 :  [  34.52935189  -94.22606889 -160.42520675   42.63130424  282.48703276]\n",
      "50 :  [  34.43287075  -92.15269999 -164.49978177   41.49651457  286.06602316]\n",
      "51 :  [  34.32227731  -90.03949996 -168.56772306   40.34588796  289.61995648]\n",
      "52 :  [  34.19852771  -87.88951029 -172.62862911   39.18049629  293.1499518 ]\n",
      "53 :  [  34.06251708  -85.70557746 -176.68212626   38.00134304  296.6570583 ]\n",
      "54 :  [  33.9150834   -83.49036537 -180.72786693   36.80936765  300.14225968]\n",
      "55 :  [  33.75701115  -81.24636695 -184.76552794   35.6054496   303.60647834]\n",
      "56 :  [  33.58903472  -78.97591506 -188.79480896   34.39041222  307.05057928]\n",
      "57 :  [  33.4118416   -76.68119266 -192.81543104   33.16502626  310.47537376]\n",
      "58 :  [  33.22607536  -74.3642424  -196.82713527   31.93001325  313.88162267]\n",
      "59 :  [  33.03233844  -72.02697549 -200.82968146   30.68604862  317.2700398 ]\n",
      "60 :  [  32.83119479  -69.67118016 -204.82284696   29.43376464  320.64129478]\n",
      "61 :  [  32.62317228  -67.29852938 -208.80642556   28.17375318  323.99601591]\n",
      "62 :  [  32.40876506  -64.91058829 -212.78022638   26.90656827  327.33479279]\n",
      "63 :  [  32.18843565  -62.50882104 -216.74407294   25.63272849  330.65817878]\n",
      "64 :  [  31.96261696  -60.09459721 -220.69780223   24.35271926  333.96669329]\n",
      "65 :  [  31.73171421  -57.66919784 -224.64126383   23.06699495  337.26082393]\n",
      "66 :  [  31.49610667  -55.23382107 -228.57431909   21.77598083  340.54102857]\n",
      "67 :  [  31.25614931  -52.78958743 -232.49684043   20.48007494  343.8077372 ]\n",
      "68 :  [  31.01217435  -50.33754477 -236.40871055   19.17964982  347.06135369]\n",
      "69 :  [  30.76449271  -47.87867289 -240.30982184   17.87505414  350.30225749]\n",
      "70 :  [  30.51339536  -45.41388788 -244.20007573   16.56661421  353.53080514]\n",
      "71 :  [  30.25915461  -42.94404621 -248.0793821    15.25463541  356.74733173]\n",
      "72 :  [  30.00202527  -40.46994844 -251.94765874   13.93940353  359.9521523 ]\n",
      "73 :  [  29.74224579  -37.9923429  -255.80483085   12.62118598  363.14556307]\n",
      "74 :  [  29.48003929  -35.51192893 -259.65083055   11.30023303  366.32784265]\n",
      "75 :  [  29.21561453  -33.02936002 -263.48559646    9.97677883  369.49925315]\n",
      "76 :  [  28.94916683  -30.54524676 -267.30907324    8.65104247  372.66004125]\n",
      "77 :  [  28.68087893  -28.06015957 -271.12121123    7.32322894  375.81043916]\n",
      "78 :  [  28.41092179  -25.57463121 -274.92196606    5.99353003  378.95066553]\n",
      "79 :  [  28.13945535  -23.08915926 -278.71129834    4.66212516  382.08092632]\n",
      "80 :  [  27.86662919  -20.60420828 -282.4891733     3.32918217  385.20141561]\n",
      "81 :  [  27.59258324  -18.120212   -286.25556051    1.99485806  388.31231636]\n",
      "82 :  [  27.31744838  -15.63757521 -290.0104336     0.65929967  391.41380108]\n",
      "83 :  [  27.041347    -13.15667565 -293.75376999   -0.67735564  394.50603251]\n",
      "84 :  [  26.76439356  -10.67786572 -297.48555064   -2.01497942  397.58916428]\n",
      "85 :  [  26.48669507   -8.20147412 -301.20575983   -3.35345156  400.6633414 ]\n",
      "86 :  [  26.20835161   -5.72780731 -304.91438491   -4.69265975  403.72870088]\n",
      "87 :  [  25.92945672   -3.25715099 -308.61141616   -6.03249896  406.7853722 ]\n",
      "88 :  [  25.65009785   -0.78977137 -312.29684654   -7.37287102  409.83347782]\n",
      "89 :  [  25.37035673    1.67408352 -315.97067153   -8.71368417  412.87313356]\n",
      "90 :  [  25.09030975    4.13418275 -319.63288899  -10.05485262  415.90444908]\n",
      "91 :  [  24.81002829    6.59031133 -323.28349896  -11.3962962   418.92752825]\n",
      "92 :  [  24.52957905    9.04226923 -326.92250355  -12.73794002  421.94246951]\n",
      "93 :  [  24.24902434   11.48987042 -330.54990678  -14.07971408  424.9493662 ]\n",
      "94 :  [  23.96842233   13.93294193 -334.16571448  -15.42155299  427.94830691]\n",
      "95 :  [  23.68782739   16.37132311 -337.76993413  -16.76339569  430.93937577]\n",
      "96 :  [  23.40729025   18.80486474 -341.36257478  -18.10518514  433.92265272]\n",
      "97 :  [  23.1268583    21.23342836 -344.94364695  -19.44686809  436.89821376]\n",
      "98 :  [  22.84657574   23.65688558 -348.51316248  -20.78839483  439.86613125]\n",
      "99 :  [  22.56648383   26.07511739 -352.07113451  -22.12971896  442.82647408]\n",
      "Se excedió el número máximo de iteraciones\n",
      "x:\n",
      " [  22.28662107   28.48801362 -355.61757734  -23.47079719  445.77930793]\n"
     ]
    }
   ],
   "source": [
    "y = np.array([1,2,3,4,5])\n",
    "x = np.transpose(GaussSeidel(H,y,np.zeros(len(y))))\n",
    "print(\"x:\\n\",x)"
   ]
  },
  {
   "cell_type": "markdown",
   "metadata": {},
   "source": [
    "Verificamos la solución"
   ]
  },
  {
   "cell_type": "code",
   "execution_count": 68,
   "metadata": {},
   "outputs": [
    {
     "name": "stdout",
     "output_type": "stream",
     "text": [
      "y - Hx:\n",
      "[-2.79597717e-01  6.62687379e-01 -1.98320369e-01 -3.69104231e-01\n",
      " -3.55271368e-15]\n"
     ]
    }
   ],
   "source": [
    "print(\"y - Hx:\")\n",
    "print(y-H.dot(x))"
   ]
  },
  {
   "cell_type": "markdown",
   "metadata": {},
   "source": [
    "Notamos que la solución no es muy exacta, y el algoritmo tarda mucho en converger"
   ]
  },
  {
   "cell_type": "markdown",
   "metadata": {},
   "source": [
    "## b) Matriz de insumo producto"
   ]
  },
  {
   "cell_type": "markdown",
   "metadata": {},
   "source": [
    "La matriz de insumo-producto es una matriz que representa las compras y ventas de varios sectores de economía y se utilizan para predecir demanda o la producción que se requiere para satisfacer la demanda.\n",
    "\n",
    "En este ejemplo, $A$ es la matriz de insumo producto sobre los sectores de Agricultura, Industria y Servicios. La variable $y$ representa la demanda y queremos calcular $x$, la producción bruta.\n",
    "\\begin{align}\n",
    "x &= Ax + y \\\\\n",
    "x - Ax &= y \\\\\n",
    "x(I - A) &= y\\\\\n",
    "x &= (I-A)^{-1}y\n",
    "\\end{align}"
   ]
  },
  {
   "cell_type": "code",
   "execution_count": 56,
   "metadata": {},
   "outputs": [
    {
     "name": "stdout",
     "output_type": "stream",
     "text": [
      "A:\n",
      " [[0.2 0.1 0.2]\n",
      " [0.5 0.2 0.1]\n",
      " [0.3 0.7 0.1]]\n"
     ]
    }
   ],
   "source": [
    "A = np.array([[0.2, 0.1, 0.2],[0.5, 0.2, 0.1],[0.3, 0.7, 0.1]])\n",
    "print(\"A:\\n\",A)"
   ]
  },
  {
   "cell_type": "code",
   "execution_count": 57,
   "metadata": {},
   "outputs": [
    {
     "name": "stdout",
     "output_type": "stream",
     "text": [
      "y:\n",
      " [ 600 1000  700]\n"
     ]
    }
   ],
   "source": [
    "y = np.array([600,1000,700])\n",
    "print(\"y:\\n\",y)"
   ]
  },
  {
   "cell_type": "markdown",
   "metadata": {},
   "source": [
    "Llamamos la la matriz $(I-A)$ la matriz de Leontief y $(I-A)^{-1}$ la matriz inversa de Leontief"
   ]
  },
  {
   "cell_type": "code",
   "execution_count": 58,
   "metadata": {},
   "outputs": [
    {
     "name": "stdout",
     "output_type": "stream",
     "text": [
      "Matriz de Leontief:\n",
      " [[ 0.8 -0.1 -0.2]\n",
      " [-0.5  0.8 -0.1]\n",
      " [-0.3 -0.7  0.9]]\n",
      "Matriz inversa de Leontief:\n",
      " [[1.83615819 0.64971751 0.48022599]\n",
      " [1.3559322  1.86440678 0.50847458]\n",
      " [1.66666667 1.66666667 1.66666667]]\n"
     ]
    }
   ],
   "source": [
    "Leontief = np.identity(3)- A\n",
    "print(\"Matriz de Leontief:\\n\", Leontief)\n",
    "invLeontief = linalg.inv(Leontief)\n",
    "print(\"Matriz inversa de Leontief:\\n\", invLeontief)"
   ]
  },
  {
   "cell_type": "markdown",
   "metadata": {},
   "source": [
    "Sin embargo no es necesario encontrar la inversa, podemos utilizar el método de Gauss-Seidel para encontrar la solucion"
   ]
  },
  {
   "cell_type": "markdown",
   "metadata": {},
   "source": [
    "Encontramos $x$ usando el sistema $(I-A)x = y$"
   ]
  },
  {
   "cell_type": "code",
   "execution_count": 59,
   "metadata": {},
   "outputs": [
    {
     "name": "stdout",
     "output_type": "stream",
     "text": [
      "0 :  [0. 0. 0.]\n",
      "1 :  [ 750.         1718.75       2364.58333333]\n",
      "2 :  [1555.98958333 2518.06640625 3254.93706597]\n",
      "3 :  [1878.49256727 2830.92498779 3605.77251293]\n",
      "4 :  [2005.30875171 2954.03953393 3743.80033252]\n",
      "5 :  [2055.20502487 3002.47818211 3798.10692771]\n",
      "6 :  [2074.83650469 3021.5361814  3819.47364265]\n",
      "7 :  [2082.56043334 3029.03447617 3827.88029257]\n",
      "8 :  [2085.59938266 3031.98465074 3831.18785591]\n",
      "9 :  [2086.79504532 3033.14538531 3832.48920368]\n",
      "10 :  [2087.26547408 3033.60207176 3833.00121384]\n",
      "11 :  [2087.45056243 3033.78175325 3833.20266223]\n",
      "12 :  [2087.52338471 3033.85244822 3833.2819213 ]\n",
      "13 :  [2087.55203635 3033.88026288 3833.31310547]\n",
      "14 :  [2087.56330923 3033.89120645 3833.32537476]\n",
      "15 :  [2087.5677445  3033.89551216 3833.33020206]\n",
      "x:\n",
      " [2087.56948954 3033.89720622 3833.33210135]\n"
     ]
    }
   ],
   "source": [
    "I = np.identity(len(y))\n",
    "x = np.transpose(GaussSeidel(I-A,y,np.zeros(len(y))))\n",
    "print(\"x:\\n\",x)"
   ]
  },
  {
   "cell_type": "markdown",
   "metadata": {},
   "source": [
    "Notamos que la solución es efectivamente correcta"
   ]
  },
  {
   "cell_type": "code",
   "execution_count": 60,
   "metadata": {},
   "outputs": [
    {
     "name": "stdout",
     "output_type": "stream",
     "text": [
      "x - (Ax+y):\n",
      "[-0.00054926 -0.00018993  0.        ]\n"
     ]
    }
   ],
   "source": [
    "print(\"x - (Ax+y):\")\n",
    "print(x-(A.dot(x)+y))"
   ]
  },
  {
   "cell_type": "markdown",
   "metadata": {},
   "source": [
    "## c) Regresión múltiple"
   ]
  },
  {
   "cell_type": "markdown",
   "metadata": {},
   "source": [
    "Podemos utilizar regrecion lineal multiple para encontrar una recta que representa el comportamiento de un conjunto de datos."
   ]
  },
  {
   "cell_type": "code",
   "execution_count": 61,
   "metadata": {},
   "outputs": [
    {
     "data": {
      "image/png": "[encoded data removed]",
      "text/plain": [
       "<Figure size 432x288 with 1 Axes>"
      ]
     },
     "metadata": {
      "needs_background": "light"
     },
     "output_type": "display_data"
    }
   ],
   "source": [
    "x = np.array([1,2,4,5,6])\n",
    "y = np.array([0,1,2,3,5])\n",
    "# Plot\n",
    "fig, ax = plt.subplots()\n",
    "ax.scatter(x, y, color='red')\n",
    "\n",
    "ax.set(xlabel='x', ylabel='y',\n",
    "       title='Data')\n",
    "ax.grid()\n",
    "plt.show()"
   ]
  },
  {
   "cell_type": "markdown",
   "metadata": {},
   "source": [
    "Suponemos que los datos siguen un comportamiento lineal, entonces definimos las ecuaciones\n",
    "\\begin{align}\n",
    "Ax &= b\\\\\n",
    "A^TA \\hat{x} &= A^Tb\n",
    "\\end{align}\n",
    "Donde $A$ esta dado por $A = \\binom{x}{1}$. Entonces si encontramos la inversa de $A^TA$ el problema se reduce a resolver un sistema de la forma $Ax=b$."
   ]
  },
  {
   "cell_type": "code",
   "execution_count": 62,
   "metadata": {},
   "outputs": [
    {
     "name": "stdout",
     "output_type": "stream",
     "text": [
      "A:\n",
      " [[1. 1.]\n",
      " [2. 1.]\n",
      " [4. 1.]\n",
      " [5. 1.]\n",
      " [6. 1.]]\n",
      "ATA:\n",
      " [[82. 18.]\n",
      " [18.  5.]]\n",
      "ATb\n",
      ": [55. 11.]\n"
     ]
    }
   ],
   "source": [
    "A = np.transpose(np.array([x,np.ones(len(x))]))\n",
    "print(\"A:\\n\",A)\n",
    "ATA = np.transpose(A).dot(A)\n",
    "print(\"ATA:\\n\",ATA)\n",
    "ATb = np.transpose(A).dot(np.transpose(y))\n",
    "print(\"ATb\\n:\",ATb)"
   ]
  },
  {
   "cell_type": "markdown",
   "metadata": {},
   "source": [
    "Utilizamos el metodo de Gauss-Seidel para encontrar la solución y resolver el sistema de ecuaciones. Con esto obtenemos los parametros de la recta que mejor se ajustan a nuestros datos."
   ]
  },
  {
   "cell_type": "code",
   "execution_count": 63,
   "metadata": {},
   "outputs": [
    {
     "name": "stdout",
     "output_type": "stream",
     "text": [
      "0 :  [0. 0.]\n",
      "1 :  [ 0.67073171 -0.21463415]\n",
      "2 :  [ 0.71784652 -0.38424747]\n",
      "3 :  [ 0.75507871 -0.51828337]\n",
      "4 :  [ 0.78450123 -0.62420442]\n",
      "5 :  [ 0.80775219 -0.70790788]\n",
      "6 :  [ 0.82612612 -0.77405403]\n",
      "7 :  [ 0.84064601 -0.82632563]\n",
      "8 :  [ 0.85212026 -0.86763293]\n",
      "9 :  [ 0.86118772 -0.90027578]\n",
      "10 :  [ 0.86835322 -0.92607159]\n",
      "11 :  [ 0.87401572 -0.94645658]\n",
      "12 :  [ 0.87849047 -0.96256568]\n",
      "13 :  [ 0.88202661 -0.97529581]\n",
      "14 :  [ 0.88482103 -0.98535571]\n",
      "15 :  [ 0.8870293  -0.99330549]\n",
      "16 :  [ 0.88877438 -0.99958775]\n",
      "17 :  [ 0.89015341 -1.00455227]\n",
      "18 :  [ 0.89124318 -1.00847545]\n",
      "19 :  [ 0.89210437 -1.01157573]\n",
      "20 :  [ 0.89278492 -1.0140257 ]\n",
      "21 :  [ 0.89332271 -1.01596177]\n",
      "22 :  [ 0.89374771 -1.01749174]\n",
      "23 :  [ 0.89408355 -1.01870079]\n",
      "24 :  [ 0.89434895 -1.01965623]\n",
      "25 :  [ 0.89455869 -1.02041127]\n",
      "26 :  [ 0.89472442 -1.02100793]\n",
      "27 :  [ 0.8948554  -1.02147944]\n",
      "28 :  [ 0.8949589  -1.02185204]\n",
      "29 :  [ 0.89504069 -1.02214649]\n",
      "30 :  [ 0.89510533 -1.02237918]\n",
      "31 :  [ 0.89515641 -1.02256306]\n",
      "32 :  [ 0.89519677 -1.02270837]\n",
      "33 :  [ 0.89522867 -1.0228232 ]\n",
      "34 :  [ 0.89525387 -1.02291394]\n",
      "35 :  [ 0.89527379 -1.02298565]\n",
      "36 :  [ 0.89528953 -1.02304232]\n",
      "37 :  [ 0.89530197 -1.0230871 ]\n",
      "38 :  [ 0.8953118  -1.02312249]\n",
      "39 :  [ 0.89531957 -1.02315046]\n",
      "40 :  [ 0.89532571 -1.02317256]\n",
      "41 :  [ 0.89533056 -1.02319002]\n",
      "42 :  [ 0.89533439 -1.02320382]\n",
      "43 :  [ 0.89533742 -1.02321473]\n",
      "44 :  [ 0.89533982 -1.02322334]\n",
      "45 :  [ 0.89534171 -1.02323016]\n",
      "46 :  [ 0.8953432  -1.02323554]\n",
      "47 :  [ 0.89534439 -1.02323979]\n",
      "48 :  [ 0.89534532 -1.02324315]\n",
      "49 :  [ 0.89534606 -1.02324581]\n",
      "50 :  [ 0.89534664 -1.02324791]\n",
      "51 :  [ 0.8953471  -1.02324957]\n",
      "52 :  [ 0.89534747 -1.02325088]\n",
      "53 :  [ 0.89534775 -1.02325191]\n"
     ]
    },
    {
     "data": {
      "image/png": "[encoded data removed]",
      "text/plain": [
       "<Figure size 432x288 with 1 Axes>"
      ]
     },
     "metadata": {
      "needs_background": "light"
     },
     "output_type": "display_data"
    }
   ],
   "source": [
    "sol = np.transpose(GaussSeidel(ATA,ATb,np.zeros(len(ATb))))\n",
    "m = sol[0]\n",
    "b = sol[1]\n",
    "\n",
    "fig, ax = plt.subplots()\n",
    "ax.scatter(x, y, color = 'red')\n",
    "l = np.linspace(min(x),max(x),100)\n",
    "ax.plot(l,m*l+b )\n",
    "ax.set(xlabel='x', ylabel='y',\n",
    "       title='Data')\n",
    "ax.grid()\n",
    "plt.show()"
   ]
  },
  {
   "cell_type": "markdown",
   "metadata": {},
   "source": [
    "### Referencias\n",
    "* Weisstein, Eric W. \"Hilbert Matrix.\" From MathWorld--A Wolfram Web Resource. http://mathworld.wolfram.com/HilbertMatrix.html\n",
    "* Prof. Waldo Marquez González, \"La Matriz de Leontief\", EL PROBLEMA ECONOMICO DE LAS RELACIONES INTERINDUSTRIALES. http://www.ehu.eus/Jarriola/Docencia/EcoEsp/matriz-de-leontief.pdf\n",
    "* Dr. Peyam, Linear regression. https://www.youtube.com/watch?v=-bgrezOT0VQ"
   ]
  }
 ],
 "metadata": {
  "kernelspec": {
   "display_name": "Python 3",
   "language": "python",
   "name": "python3"
  },
  "language_info": {
   "codemirror_mode": {
    "name": "ipython",
    "version": 3
   },
   "file_extension": ".py",
   "mimetype": "text/x-python",
   "name": "python",
   "nbconvert_exporter": "python",
   "pygments_lexer": "ipython3",
   "version": "3.7.4"
  }
 },
 "nbformat": 4,
 "nbformat_minor": 2
}
